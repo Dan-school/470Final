{
  "nbformat": 4,
  "nbformat_minor": 0,
  "metadata": {
    "colab": {
      "name": "train_val_test_split.ipynb",
      "provenance": []
    },
    "kernelspec": {
      "name": "python3",
      "display_name": "Python 3"
    },
    "language_info": {
      "name": "python"
    }
  },
  "cells": [
    {
      "cell_type": "code",
      "metadata": {
        "colab": {
          "base_uri": "https://localhost:8080/"
        },
        "id": "4AsZ0gySUeFm",
        "outputId": "50dd027e-17ec-4609-dcc0-aedac74ca59c"
      },
      "source": [
        "from google.colab import drive\n",
        "drive.mount('/content/drive')"
      ],
      "execution_count": 1,
      "outputs": [
        {
          "output_type": "stream",
          "text": [
            "Mounted at /content/drive\n"
          ],
          "name": "stdout"
        }
      ]
    },
    {
      "cell_type": "code",
      "metadata": {
        "id": "sNsjaD8WT07M"
      },
      "source": [
        "import os\n",
        "import pandas as pd\n",
        "import numpy as np"
      ],
      "execution_count": 2,
      "outputs": []
    },
    {
      "cell_type": "code",
      "metadata": {
        "id": "iEsH0I7Iaff8"
      },
      "source": [
        "data = pd.read_csv(\"/content/drive/MyDrive/Colab Notebooks/HandGestures/all_data.csv\")"
      ],
      "execution_count": 3,
      "outputs": []
    },
    {
      "cell_type": "code",
      "metadata": {
        "id": "HxQv4nUzbQL-",
        "colab": {
          "base_uri": "https://localhost:8080/",
          "height": 419
        },
        "outputId": "f2edf4e4-82ce-4840-d0bc-7e858a1ab57a"
      },
      "source": [
        "data"
      ],
      "execution_count": 4,
      "outputs": [
        {
          "output_type": "execute_result",
          "data": {
            "text/html": [
              "<div>\n",
              "<style scoped>\n",
              "    .dataframe tbody tr th:only-of-type {\n",
              "        vertical-align: middle;\n",
              "    }\n",
              "\n",
              "    .dataframe tbody tr th {\n",
              "        vertical-align: top;\n",
              "    }\n",
              "\n",
              "    .dataframe thead th {\n",
              "        text-align: right;\n",
              "    }\n",
              "</style>\n",
              "<table border=\"1\" class=\"dataframe\">\n",
              "  <thead>\n",
              "    <tr style=\"text-align: right;\">\n",
              "      <th></th>\n",
              "      <th>file</th>\n",
              "      <th>label</th>\n",
              "    </tr>\n",
              "  </thead>\n",
              "  <tbody>\n",
              "    <tr>\n",
              "      <th>0</th>\n",
              "      <td>/content/pictures/Ok/frame_08_07_0198.png</td>\n",
              "      <td>Ok</td>\n",
              "    </tr>\n",
              "    <tr>\n",
              "      <th>1</th>\n",
              "      <td>/content/pictures/Ok/frame_03_07_0011.png</td>\n",
              "      <td>Ok</td>\n",
              "    </tr>\n",
              "    <tr>\n",
              "      <th>2</th>\n",
              "      <td>/content/pictures/Ok/frame_03_07_0194.png</td>\n",
              "      <td>Ok</td>\n",
              "    </tr>\n",
              "    <tr>\n",
              "      <th>3</th>\n",
              "      <td>/content/pictures/Ok/frame_05_07_0002.png</td>\n",
              "      <td>Ok</td>\n",
              "    </tr>\n",
              "    <tr>\n",
              "      <th>4</th>\n",
              "      <td>/content/pictures/Ok/frame_09_07_0012.png</td>\n",
              "      <td>Ok</td>\n",
              "    </tr>\n",
              "    <tr>\n",
              "      <th>...</th>\n",
              "      <td>...</td>\n",
              "      <td>...</td>\n",
              "    </tr>\n",
              "    <tr>\n",
              "      <th>7595</th>\n",
              "      <td>/content/pictures/Palm/frame_03_01_0024.png</td>\n",
              "      <td>Palm</td>\n",
              "    </tr>\n",
              "    <tr>\n",
              "      <th>7596</th>\n",
              "      <td>/content/pictures/Palm/frame_05_01_0068.png</td>\n",
              "      <td>Palm</td>\n",
              "    </tr>\n",
              "    <tr>\n",
              "      <th>7597</th>\n",
              "      <td>/content/pictures/Palm/frame_00_01_0069.png</td>\n",
              "      <td>Palm</td>\n",
              "    </tr>\n",
              "    <tr>\n",
              "      <th>7598</th>\n",
              "      <td>/content/pictures/Palm/frame_08_01_0114.png</td>\n",
              "      <td>Palm</td>\n",
              "    </tr>\n",
              "    <tr>\n",
              "      <th>7599</th>\n",
              "      <td>/content/pictures/Palm/frame_05_01_0170.png</td>\n",
              "      <td>Palm</td>\n",
              "    </tr>\n",
              "  </tbody>\n",
              "</table>\n",
              "<p>7600 rows × 2 columns</p>\n",
              "</div>"
            ],
            "text/plain": [
              "                                             file label\n",
              "0       /content/pictures/Ok/frame_08_07_0198.png    Ok\n",
              "1       /content/pictures/Ok/frame_03_07_0011.png    Ok\n",
              "2       /content/pictures/Ok/frame_03_07_0194.png    Ok\n",
              "3       /content/pictures/Ok/frame_05_07_0002.png    Ok\n",
              "4       /content/pictures/Ok/frame_09_07_0012.png    Ok\n",
              "...                                           ...   ...\n",
              "7595  /content/pictures/Palm/frame_03_01_0024.png  Palm\n",
              "7596  /content/pictures/Palm/frame_05_01_0068.png  Palm\n",
              "7597  /content/pictures/Palm/frame_00_01_0069.png  Palm\n",
              "7598  /content/pictures/Palm/frame_08_01_0114.png  Palm\n",
              "7599  /content/pictures/Palm/frame_05_01_0170.png  Palm\n",
              "\n",
              "[7600 rows x 2 columns]"
            ]
          },
          "metadata": {
            "tags": []
          },
          "execution_count": 4
        }
      ]
    },
    {
      "cell_type": "code",
      "metadata": {
        "id": "5GLMv-VhGIgB"
      },
      "source": [
        "from sklearn.model_selection import train_test_split\n",
        "train_x, test_x, train_y, test_y = train_test_split(data.file, data.label, test_size=0.3, random_state=42)"
      ],
      "execution_count": 5,
      "outputs": []
    },
    {
      "cell_type": "code",
      "metadata": {
        "id": "Xv359yAQH9Km"
      },
      "source": [
        "# Split the test set again to get a validation and test set\n",
        "val_x, test_x, val_y, test_y = train_test_split(test_x, test_y, test_size=0.1, random_state=42)"
      ],
      "execution_count": 6,
      "outputs": []
    },
    {
      "cell_type": "code",
      "metadata": {
        "id": "Nlf0CLg0IKag"
      },
      "source": [
        "train_data = pd.DataFrame({\"file\": train_x, \"label\": train_y})\n",
        "valid_data = pd.DataFrame({\"file\": val_x, \"label\": val_y})\n",
        "test_data = pd.DataFrame({\"file\": test_x, \"label\": test_y})"
      ],
      "execution_count": 7,
      "outputs": []
    },
    {
      "cell_type": "code",
      "metadata": {
        "id": "tA31HBWuIZ5y"
      },
      "source": [
        "train_data.to_csv(\"/content/drive/MyDrive/Colab Notebooks/HandGestures/train_split.csv\", index=False)\n",
        "valid_data.to_csv(\"/content/drive/MyDrive/Colab Notebooks/HandGestures/valid_split.csv\", index=False)\n",
        "test_data.to_csv(\"/content/drive/MyDrive/Colab Notebooks/HandGestures/test_split.csv\", index=False)"
      ],
      "execution_count": 8,
      "outputs": []
    },
    {
      "cell_type": "code",
      "metadata": {
        "id": "7hklnXyJIa4Z"
      },
      "source": [
        ""
      ],
      "execution_count": null,
      "outputs": []
    }
  ]
}