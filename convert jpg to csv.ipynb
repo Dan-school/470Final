{
 "cells": [
  {
   "cell_type": "code",
   "execution_count": 1,
   "id": "urban-premises",
   "metadata": {},
   "outputs": [],
   "source": [
    "import cv2\n",
    "import numpy as np\n",
    "import os, os.path, time"
   ]
  },
  {
   "cell_type": "code",
   "execution_count": 4,
   "id": "classical-triangle",
   "metadata": {},
   "outputs": [],
   "source": []
  },
  {
   "cell_type": "code",
   "execution_count": 4,
   "id": "homeless-state",
   "metadata": {},
   "outputs": [],
   "source": [
    "IMG_DIR = 'G:\\\\class\\\\pictures\\\\ThumbDown'\n",
    "pic = 1\n",
    "\n",
    "for img in os.listdir(IMG_DIR):\n",
    "    img_array = cv2.imread(os.path.join(IMG_DIR,img), cv2.IMREAD_GRAYSCALE)\n",
    "\n",
    "    #img_array = (img_array.flatten())\n",
    "\n",
    "    #img_array  = img_array.reshape(-1, 1).T\n",
    "    testName = \"ThumbDown\"\n",
    "    testName += str(pic)+\".csv\"\n",
    "    pic+=1\n",
    "    np.savetxt(testName, img_array, delimiter=\",\")\n",
    "\n",
    "            "
   ]
  },
  {
   "cell_type": "code",
   "execution_count": null,
   "id": "forward-hamilton",
   "metadata": {},
   "outputs": [],
   "source": []
  }
 ],
 "metadata": {
  "kernelspec": {
   "display_name": "Python 3",
   "language": "python",
   "name": "python3"
  },
  "language_info": {
   "codemirror_mode": {
    "name": "ipython",
    "version": 3
   },
   "file_extension": ".py",
   "mimetype": "text/x-python",
   "name": "python",
   "nbconvert_exporter": "python",
   "pygments_lexer": "ipython3",
   "version": "3.8.3"
  }
 },
 "nbformat": 4,
 "nbformat_minor": 5
}
