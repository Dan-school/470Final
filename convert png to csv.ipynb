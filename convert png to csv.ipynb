{
 "cells": [
  {
   "cell_type": "code",
   "execution_count": 1,
   "id": "urban-premises",
   "metadata": {},
   "outputs": [],
   "source": [
    "import csv\n",
    "import numpy as np\n",
    "import os, os.path, time"
   ]
  },
  {
   "cell_type": "code",
   "execution_count": 2,
   "id": "homeless-state",
   "metadata": {},
   "outputs": [],
   "source": [
    "IMG_OK = '\\\\pictures\\\\Ok\\\\'\n",
    "IMG_TD = '\\\\pictures\\\\ThumbDown\\\\'\n",
    "IMG_TU = '\\\\pictures\\\\ThumbuP\\\\'\n",
    "IMG_PALM = '\\\\pictures\\\\Palm\\\\'\n",
    "\n",
    "CURR_DIR = os.getcwd()\n",
    "\n",
    "with open('trainingData.csv', 'w', newline=\"\") as csvfile:\n",
    "    filewriter = csv.writer(csvfile)\n",
    "\n",
    "    for img in os.listdir(CURR_DIR+IMG_OK):\n",
    "        filewriter.writerow([CURR_DIR+IMG_OK+img,'Ok'])\n",
    "\n",
    "    for img in os.listdir(CURR_DIR+IMG_TD):\n",
    "        filewriter.writerow([CURR_DIR+IMG_TD+img,'ThumbDown'])\n",
    "    \n",
    "    for img in os.listdir(CURR_DIR+IMG_TU):\n",
    "        filewriter.writerow([CURR_DIR+IMG_TU+img,'ThumbUp'])\n",
    "    \n",
    "    for img in os.listdir(CURR_DIR+IMG_PALM):\n",
    "        filewriter.writerow([CURR_DIR+IMG_PALM+img,'Palm'])\n",
    "        "
   ]
  },
  {
   "cell_type": "code",
   "execution_count": null,
   "id": "inner-antenna",
   "metadata": {},
   "outputs": [],
   "source": []
  }
 ],
 "metadata": {
  "kernelspec": {
   "display_name": "Python 3",
   "language": "python",
   "name": "python3"
  },
  "language_info": {
   "codemirror_mode": {
    "name": "ipython",
    "version": 3
   },
   "file_extension": ".py",
   "mimetype": "text/x-python",
   "name": "python",
   "nbconvert_exporter": "python",
   "pygments_lexer": "ipython3",
   "version": "3.8.3"
  }
 },
 "nbformat": 4,
 "nbformat_minor": 5
}
