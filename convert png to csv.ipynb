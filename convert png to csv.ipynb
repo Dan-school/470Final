{
  "nbformat": 4,
  "nbformat_minor": 5,
  "metadata": {
    "kernelspec": {
      "display_name": "Python 3",
      "language": "python",
      "name": "python3"
    },
    "language_info": {
      "codemirror_mode": {
        "name": "ipython",
        "version": 3
      },
      "file_extension": ".py",
      "mimetype": "text/x-python",
      "name": "python",
      "nbconvert_exporter": "python",
      "pygments_lexer": "ipython3",
      "version": "3.8.3"
    },
    "colab": {
      "name": "convert png to csv.ipynb",
      "provenance": []
    }
  },
  "cells": [
    {
      "cell_type": "code",
      "metadata": {
        "colab": {
          "base_uri": "https://localhost:8080/"
        },
        "id": "Ze5KNnw9ECtN",
        "outputId": "45c777e6-a33f-463d-8638-9816bf3a9811"
      },
      "source": [
        "from google.colab import drive\n",
        "drive.mount('/content/drive')"
      ],
      "id": "Ze5KNnw9ECtN",
      "execution_count": 1,
      "outputs": [
        {
          "output_type": "stream",
          "text": [
            "Drive already mounted at /content/drive; to attempt to forcibly remount, call drive.mount(\"/content/drive\", force_remount=True).\n"
          ],
          "name": "stdout"
        }
      ]
    },
    {
      "cell_type": "code",
      "metadata": {
        "id": "urban-premises"
      },
      "source": [
        "import csv\n",
        "import numpy as np\n",
        "import os, os.path, time"
      ],
      "id": "urban-premises",
      "execution_count": 2,
      "outputs": []
    },
    {
      "cell_type": "code",
      "metadata": {
        "colab": {
          "base_uri": "https://localhost:8080/"
        },
        "id": "bWh7nGbUD-T8",
        "outputId": "b47b818c-bfc9-499e-d649-864b9970515a"
      },
      "source": [
        "! unzip /content/drive/MyDrive/'Colab Notebooks'/HandGestures/imgs.zip"
      ],
      "id": "bWh7nGbUD-T8",
      "execution_count": 3,
      "outputs": [
        {
          "output_type": "stream",
          "text": [
            "Archive:  /content/drive/MyDrive/Colab Notebooks/HandGestures/imgs.zip\n",
            "replace pictures/Ok/frame_04_07_0106.png? [y]es, [n]o, [A]ll, [N]one, [r]ename: N\n"
          ],
          "name": "stdout"
        }
      ]
    },
    {
      "cell_type": "code",
      "metadata": {
        "id": "homeless-state"
      },
      "source": [
        "GDRIVE_PTH = \"/content/drive/MyDrive/Colab Notebooks/HandGestures/\"\n",
        "IMG_OK = '/pictures/Ok/'\n",
        "IMG_TD = '/pictures/ThumbDown/'\n",
        "IMG_TU = '/pictures/ThumbUp/'\n",
        "IMG_PALM = '/pictures/Palm/'\n",
        "\n",
        "CURR_DIR = os.getcwd()\n",
        "\n",
        "with open(GDRIVE_PTH + 'all_data.csv', 'w', newline=\"\") as csvfile:\n",
        "    filewriter = csv.writer(csvfile)\n",
        "    filewriter.writerow([\"file\", \"label\"])\n",
        "    for img in os.listdir(CURR_DIR+IMG_OK):\n",
        "        filewriter.writerow([CURR_DIR+IMG_OK+img,'Ok'])\n",
        "\n",
        "    for img in os.listdir(CURR_DIR+IMG_TD):\n",
        "        filewriter.writerow([CURR_DIR+IMG_TD+img,'ThumbDown'])\n",
        "    \n",
        "    for img in os.listdir(CURR_DIR+IMG_TU):\n",
        "        filewriter.writerow([CURR_DIR+IMG_TU+img,'ThumbUp'])\n",
        "    \n",
        "    for img in os.listdir(CURR_DIR+IMG_PALM):\n",
        "        filewriter.writerow([CURR_DIR+IMG_PALM+img,'Palm'])\n",
        "        "
      ],
      "id": "homeless-state",
      "execution_count": 4,
      "outputs": []
    },
    {
      "cell_type": "code",
      "metadata": {
        "id": "inner-antenna"
      },
      "source": [
        ""
      ],
      "id": "inner-antenna",
      "execution_count": 4,
      "outputs": []
    }
  ]
}