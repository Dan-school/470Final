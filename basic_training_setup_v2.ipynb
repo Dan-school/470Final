{
  "nbformat": 4,
  "nbformat_minor": 0,
  "metadata": {
    "accelerator": "GPU",
    "colab": {
      "name": "basic_training_setup_v2.ipynb",
      "provenance": [],
      "collapsed_sections": []
    },
    "kernelspec": {
      "display_name": "Python 3",
      "name": "python3"
    },
    "language_info": {
      "name": "python"
    }
  },
  "cells": [
    {
      "cell_type": "code",
      "metadata": {
        "id": "PU4Qu8xGombY"
      },
      "source": [
        "from google.colab import drive\n",
        "drive.mount('/content/drive')"
      ],
      "execution_count": null,
      "outputs": []
    },
    {
      "cell_type": "code",
      "metadata": {
        "id": "USPwqPwaoRBW"
      },
      "source": [
        "! unzip /content/drive/MyDrive/'Colab Notebooks'/HandGestures/imgs.zip"
      ],
      "execution_count": null,
      "outputs": []
    },
    {
      "cell_type": "code",
      "metadata": {
        "id": "ZgXvG4aNSHH5"
      },
      "source": [
        "import cv2\n",
        "import numpy as np\n",
        "import pandas as pd\n",
        "\n",
        "import torch \n",
        "import torch.nn as nn\n",
        "import torch.optim\n",
        "from torchvision import datasets, transforms"
      ],
      "execution_count": 12,
      "outputs": []
    },
    {
      "cell_type": "code",
      "metadata": {
        "id": "7soW12-qn1mu"
      },
      "source": [
        ""
      ],
      "execution_count": 12,
      "outputs": []
    },
    {
      "cell_type": "code",
      "metadata": {
        "id": "nfy5b48TSYeW"
      },
      "source": [
        "# check if CUDA is available\n",
        "train_on_gpu = torch.cuda.is_available()\n",
        "\n",
        "device = 'cpu'\n",
        "if not train_on_gpu:\n",
        "    print('CUDA is not available.  Training on CPU ...')\n",
        "else:\n",
        "    device = 'cuda'\n",
        "    print('CUDA is available!  Training on GPU ...')"
      ],
      "execution_count": null,
      "outputs": []
    },
    {
      "cell_type": "code",
      "metadata": {
        "id": "yEqfGMLSsQ27"
      },
      "source": [
        "torch.__version__"
      ],
      "execution_count": null,
      "outputs": []
    },
    {
      "cell_type": "code",
      "metadata": {
        "id": "-OJlaWAhbXs2"
      },
      "source": [
        "labels = {\n",
        "    \"ThumbUp\": 0,\n",
        "    \"ThumbDown\": 1,\n",
        "    \"Ok\": 2,\n",
        "    \"Palm\": 3\n",
        "}\n",
        "\n",
        "class HandGesturesDataset(torch.utils.data.Dataset):\n",
        "  def __init__(self, csv_file, file_col, lbl_col, text2lbl):\n",
        "    self.csv = pd.read_csv(csv_file)\n",
        "    self.file_col = file_col\n",
        "    self.lbl_col = lbl_col\n",
        "    self.labels = text2lbl\n",
        "\n",
        "  def __len__(self):\n",
        "    return len(self.csv)\n",
        "\n",
        "  def __getitem__(self, idx):\n",
        "    img = cv2.imread(self.csv.loc[idx][self.file_col])\n",
        "    img = cv2.cvtColor(img, cv2.COLOR_BGR2RGB)\n",
        "    img = img.astype(np.float).transpose(2, 0, 1)\n",
        "    label = self.csv.loc[idx][self.lbl_col]\n",
        "\n",
        "    return {\"img\": img, \"label\": self.labels[label]}"
      ],
      "execution_count": 198,
      "outputs": []
    },
    {
      "cell_type": "code",
      "metadata": {
        "id": "w_l7lXB5oKg-"
      },
      "source": [
        "train = HandGesturesDataset(\"/content/drive/MyDrive/Colab Notebooks/HandGestures/imgs.csv\",\n",
        "                            \"file\", \"label\", labels)"
      ],
      "execution_count": 199,
      "outputs": []
    },
    {
      "cell_type": "code",
      "metadata": {
        "id": "NX-EFuFfoFaW"
      },
      "source": [
        "trainloader = torch.utils.data.DataLoader(train, batch_size=1, shuffle=True)"
      ],
      "execution_count": 200,
      "outputs": []
    },
    {
      "cell_type": "code",
      "metadata": {
        "id": "wsHy887qYk7H"
      },
      "source": [
        "from torchvision.models import resnet18, vgg16, inception_v3, densenet121, resnet50\n",
        "\n",
        "def get_model(model_name, num_classes):\n",
        "  if model_name == \"resnet18\":\n",
        "    model = resnet18(num_classes=num_classes)\n",
        "  elif model_name == \"resnet50\":\n",
        "    model = resnet50(num_classes=num_classes)\n",
        "  elif model_name == \"inception_v3\":\n",
        "    model = inception_v3(num_classes=num_classes)\n",
        "  return model\n"
      ],
      "execution_count": 201,
      "outputs": []
    },
    {
      "cell_type": "code",
      "metadata": {
        "id": "2jL1q4VcqSUc"
      },
      "source": [
        "model = get_model(\"resnet18\", 4)\n",
        "print(model)"
      ],
      "execution_count": null,
      "outputs": []
    },
    {
      "cell_type": "code",
      "metadata": {
        "id": "C1oqgBiCk-Eu"
      },
      "source": [
        "def train_model(model, train_dl, optimizer, loss_fn, valid_dl = None, epochs=10):\n",
        "  model.to(device)\n",
        "\n",
        "  for ep in range(1, epochs + 1):\n",
        "    train_loss, val_loss = [], []\n",
        "    print(\"---\" * 3, \"Epoch\", ep, \"---\" * 3)\n",
        "    model.train()\n",
        "    for batch in train_dl:\n",
        "      optimizer.zero_grad()\n",
        "      img = batch[\"img\"].float().to(device)\n",
        "      out = model(img)\n",
        "      loss = loss_fn(out, batch[\"label\"].to(device))\n",
        "      train_loss.append(loss.item())\n",
        "      loss.backward()\n",
        "      optimizer.step()\n",
        "    print(\"Training Loss: \", np.mean(train_loss))\n",
        "    if valid_dl is not None:\n",
        "      model = model.eval()\n",
        "      for batch in valid_dl:\n",
        "        img = batch[\"img\"].to(device)\n",
        "        out = model(img)\n",
        "        loss = loss_fn(out, batch[\"label\"].to(device))\n",
        "        val_loss.append(loss.item())\n",
        "      print(\"Validation Loss: \", np.mean(val_loss))"
      ],
      "execution_count": 203,
      "outputs": []
    },
    {
      "cell_type": "code",
      "metadata": {
        "id": "XatqVdJBhe3v"
      },
      "source": [
        "model"
      ],
      "execution_count": null,
      "outputs": []
    },
    {
      "cell_type": "code",
      "metadata": {
        "id": "Bqssgd00n4-e"
      },
      "source": [
        "optimizer = torch.optim.Adam(model.parameters(), 0.005)\n",
        "loss_fn = torch.nn.CrossEntropyLoss()\n",
        "\n",
        "train_model(model, trainloader, optimizer, loss_fn, epochs=3)"
      ],
      "execution_count": null,
      "outputs": []
    },
    {
      "cell_type": "code",
      "metadata": {
        "id": "t8mkyWfZo12P"
      },
      "source": [
        "def test_model(model, testloader):\n",
        "  model.eval()\n",
        "  y_true, y_pred = [], []\n",
        "  for img, lbl in testloader:\n",
        "    img = img.to(device)\n",
        "    out = model(img)\n",
        "    y_true.extend(lbl)\n",
        "    probabilities = torch.softmax(model(img), dim=1)\n",
        "    predicted_class = torch.argmax(probabilities, dim=1)\n",
        "    y_pred.extend(predicted_class.cpu())\n",
        "  return y_true, y_pred"
      ],
      "execution_count": 146,
      "outputs": []
    },
    {
      "cell_type": "code",
      "metadata": {
        "id": "f9HEDwNDynWZ"
      },
      "source": [
        "y_true, y_pred = test_model(model, testloader)\n",
        "from sklearn.metrics import classification_report\n",
        "print(classification_report(y_true, y_pred, digits=3))"
      ],
      "execution_count": null,
      "outputs": []
    },
    {
      "cell_type": "code",
      "metadata": {
        "id": "sAe3tI6mzCtP"
      },
      "source": [
        ""
      ],
      "execution_count": null,
      "outputs": []
    }
  ]
}