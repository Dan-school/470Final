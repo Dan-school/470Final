{
 "cells": [
  {
   "cell_type": "code",
   "execution_count": 1,
   "id": "medium-vaccine",
   "metadata": {},
   "outputs": [],
   "source": [
    "import cv2\n",
    "import numpy as np\n",
    "import os, os.path, time\n",
    "from PIL import Image"
   ]
  },
  {
   "cell_type": "code",
   "execution_count": 20,
   "id": "elder-protocol",
   "metadata": {},
   "outputs": [],
   "source": [
    "IMG_DIR = 'G:\\\\class\\\\pictures\\\\thumb\\\\'\n",
    "\n",
    "pic = 1\n",
    "\n",
    "for img in os.listdir(IMG_DIR):\n",
    "    SAVE = 'G:\\\\class\\\\pictures\\\\Thumb-90\\\\'\n",
    "    img_array = Image.open(fp = IMG_DIR+img)\n",
    "    RT = img_array.rotate(-90, expand = True)\n",
    "    testName = \"Thumb\"\n",
    "    testName += str(pic)+\".png\"\n",
    "    SAVE += testName\n",
    "    pic+=1\n",
    "    RT.save(SAVE)\n",
    "    "
   ]
  },
  {
   "cell_type": "code",
   "execution_count": null,
   "id": "functional-afternoon",
   "metadata": {},
   "outputs": [],
   "source": []
  }
 ],
 "metadata": {
  "kernelspec": {
   "display_name": "Python 3",
   "language": "python",
   "name": "python3"
  },
  "language_info": {
   "codemirror_mode": {
    "name": "ipython",
    "version": 3
   },
   "file_extension": ".py",
   "mimetype": "text/x-python",
   "name": "python",
   "nbconvert_exporter": "python",
   "pygments_lexer": "ipython3",
   "version": "3.8.3"
  }
 },
 "nbformat": 4,
 "nbformat_minor": 5
}
